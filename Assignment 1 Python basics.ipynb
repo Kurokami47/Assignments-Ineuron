{
 "cells": [
  {
   "cell_type": "markdown",
   "id": "2ccaffea",
   "metadata": {},
   "source": [
    "## 1. In the below elements which of them are values or an expression? eg:- values can be integer or string and expressions will be mathematical operators.\n",
    "\n",
    "\n",
    "\n"
   ]
  },
  {
   "cell_type": "raw",
   "id": "4e42f6ae",
   "metadata": {},
   "source": [
    "Answer \n",
    "* is an expression\n",
    "'hello' is a value\n",
    "-87.8 is a value\n",
    "- is an expression\n",
    "/ is an expression\n",
    "6 is a value"
   ]
  },
  {
   "cell_type": "markdown",
   "id": "84827007",
   "metadata": {},
   "source": [
    "## 2. What is the difference between string and variable?"
   ]
  },
  {
   "cell_type": "raw",
   "id": "6b747cef",
   "metadata": {},
   "source": [
    "Answer\n",
    "String\n",
    "It is a datatype\n",
    "\n",
    "Variable\n",
    "It stores values be it string,integer,float etc.\n",
    "\n",
    "Eg:s='Jagannath' Here, s is variable and 'Jagannath' is a string"
   ]
  },
  {
   "cell_type": "markdown",
   "id": "a4240754",
   "metadata": {},
   "source": [
    "## 3. Describe three different data types.\n"
   ]
  },
  {
   "cell_type": "raw",
   "id": "e085b0a5",
   "metadata": {},
   "source": [
    "Answer:\n",
    "There are various data types some of them are:\n",
    "\n",
    "1. string\n",
    "2. int\n",
    "3. float\n",
    "4. list\n",
    "5. tuple\n",
    "6. set\n",
    "7. dictionary (dict)\n",
    "8. complex\n",
    "\n",
    "    String (str): this is a data type used for text, placed in between \" \" or ' '.\n",
    "\n",
    "             for example: x = 'Hello World' where hello world is of type str.\n",
    "\n",
    "    Integer(int): this is a numerical data type which is used for numbers without decimal points.\n",
    "\n",
    "             for example: y = 10\n",
    "\n",
    "    Float : this is also a numerical data type but with decimal point.\n",
    "\n",
    "             for example: z = 10.11\n",
    "\n"
   ]
  },
  {
   "cell_type": "code",
   "execution_count": 1,
   "id": "ecfa3a05",
   "metadata": {},
   "outputs": [
    {
     "name": "stdout",
     "output_type": "stream",
     "text": [
      "x data type is: <class 'str'>\n",
      "y data type is: <class 'int'>\n",
      "z data type is: <class 'float'>\n"
     ]
    }
   ],
   "source": [
    "x = 'Hello World'\n",
    "print('x data type is:', type(x))\n",
    "y = 10\n",
    "print('y data type is:', type(y))\n",
    "z = 10.11\n",
    "print('z data type is:', type(z))"
   ]
  },
  {
   "cell_type": "markdown",
   "id": "6007008d",
   "metadata": {},
   "source": [
    "## 4. What makes up an expression? What are the functions of all expressions?\n"
   ]
  },
  {
   "cell_type": "raw",
   "id": "42b03313",
   "metadata": {},
   "source": [
    "Answer:\n",
    "An expression is a combination of operators and operands that is interpreted to produce some other value. \n",
    "An expression is evaluated as per the precedence of its operators. So that if there is more than one operator \n",
    "in an expression, their precedence decides which operation will be performed first"
   ]
  },
  {
   "cell_type": "markdown",
   "id": "bd96972f",
   "metadata": {},
   "source": [
    "## 5. This assignment statements, like spam = 10. What is the difference between an expression and a statement?\n"
   ]
  },
  {
   "cell_type": "raw",
   "id": "bab8d031",
   "metadata": {},
   "source": [
    "Answer:\n",
    "Decleration of variable means binding it to a data type \n",
    "like in our case spam is a variable i.e used for binding 10 to it as an integer value.\n",
    "Whereas as an expression is the combination of operators and operands. eg: 10+49*2 "
   ]
  },
  {
   "cell_type": "markdown",
   "id": "e7a13972",
   "metadata": {},
   "source": [
    "## 6. After running the following code, what does the variable bacon contain?\n",
    "bacon = 22 \n",
    "\n",
    "bacon + 1\n"
   ]
  },
  {
   "cell_type": "code",
   "execution_count": 2,
   "id": "1e9e47c6",
   "metadata": {},
   "outputs": [
    {
     "name": "stdout",
     "output_type": "stream",
     "text": [
      "Bacon contains: 22\n"
     ]
    }
   ],
   "source": [
    "bacon = 22\n",
    "bacon +1 # this does not adds to our variable bacon\n",
    "print('Bacon contains:', bacon)"
   ]
  },
  {
   "cell_type": "markdown",
   "id": "2ec8a898",
   "metadata": {},
   "source": [
    "## 7. What should the values of the following two terms be?\n",
    "\n",
    "'spam' + 'spamspam'\n",
    "\n",
    "'spam' * 3\n"
   ]
  },
  {
   "cell_type": "code",
   "execution_count": 4,
   "id": "ea23b774",
   "metadata": {},
   "outputs": [
    {
     "name": "stdout",
     "output_type": "stream",
     "text": [
      "this is the result of term 1 spamspamspam\n",
      "this is the result of term 2 spamspamspam\n"
     ]
    }
   ],
   "source": [
    "Ans1 = 'spam' + 'spamspam'\n",
    "print('this is the result of term 1 '+Ans1)\n",
    "\n",
    "Ans2 = 'spam'*3\n",
    "print('this is the result of term 2 '+Ans2)"
   ]
  },
  {
   "cell_type": "markdown",
   "id": "6f58989a",
   "metadata": {},
   "source": [
    "## 8. Why is eggs a valid variable name while 100 is invalid?\n"
   ]
  },
  {
   "cell_type": "raw",
   "id": "fd5d10cc",
   "metadata": {},
   "source": [
    "100 is a literal number, not a variable. 100 is always 100 , you cannot set it to something else. \n",
    "A variable is like a box in which you can store a value. 100 is a value that can be stored in the variable.\n",
    "And as per python variable naming convention, a variable cant be a number "
   ]
  },
  {
   "cell_type": "markdown",
   "id": "be8d5967",
   "metadata": {},
   "source": [
    "## 9. What three functions can be used to get the integer, floating-point number, or string version of a value?\n",
    "\n"
   ]
  },
  {
   "cell_type": "code",
   "execution_count": 11,
   "id": "eb820655",
   "metadata": {},
   "outputs": [
    {
     "name": "stdout",
     "output_type": "stream",
     "text": [
      "<class 'int'>\n",
      "<class 'int'>\n",
      "<class 'str'>\n"
     ]
    }
   ],
   "source": [
    "#the function int,float and str can be used to get the integer, floating-point number, or string version of a value\n",
    "\n",
    "value= 55\n",
    "\n",
    "value_int = int(value)\n",
    "print(type(value_int))\n",
    "value_float = float(value)\n",
    "print(type(value))\n",
    "value_string = str(value)\n",
    "print(type(value_string))"
   ]
  },
  {
   "cell_type": "markdown",
   "id": "bf95aa58",
   "metadata": {},
   "source": [
    "## 10. Why does this expression cause an error? How can you fix it?\n",
    "'I have eaten ' + 99 + ' burritos.'\n",
    " "
   ]
  },
  {
   "cell_type": "code",
   "execution_count": 13,
   "id": "fd05bd70",
   "metadata": {},
   "outputs": [
    {
     "data": {
      "text/plain": [
       "'I have eaten 99 burritos.'"
      ]
     },
     "execution_count": 13,
     "metadata": {},
     "output_type": "execute_result"
    }
   ],
   "source": [
    "#this expression cause an error because python can only concatenate str (not \"int\") to str.\n",
    "#so we have to convert the integer to a string in order to concatenate it\n",
    "\n",
    "Correct_form = 'I have eaten ' + '99' + ' burritos.'\n",
    "Correct_form"
   ]
  },
  {
   "cell_type": "code",
   "execution_count": null,
   "id": "a8b9fe29",
   "metadata": {},
   "outputs": [],
   "source": []
  }
 ],
 "metadata": {
  "kernelspec": {
   "display_name": "Python 3",
   "language": "python",
   "name": "python3"
  },
  "language_info": {
   "codemirror_mode": {
    "name": "ipython",
    "version": 3
   },
   "file_extension": ".py",
   "mimetype": "text/x-python",
   "name": "python",
   "nbconvert_exporter": "python",
   "pygments_lexer": "ipython3",
   "version": "3.8.8"
  }
 },
 "nbformat": 4,
 "nbformat_minor": 5
}
